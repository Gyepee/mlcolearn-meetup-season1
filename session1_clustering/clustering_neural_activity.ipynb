{
  "cells": [
    {
      "cell_type": "markdown",
      "metadata": {
        "id": "UGXVENUhFPkx"
      },
      "source": [
        "## Download data"
      ]
    },
    {
      "cell_type": "code",
      "execution_count": null,
      "metadata": {
        "id": "5dIX-vq_FSu0"
      },
      "outputs": [],
      "source": [
        "from pathlib import Path\n",
        "import requests\n",
        "from tqdm import tqdm\n",
        "\n",
        "def from_sciebo(public_url, to_filename, is_file = True):\n",
        "    \"\"\"\n",
        "    Downloads a file or folder from a shared URL on Sciebo.\n",
        "    \"\"\"\n",
        "    # Create the folder if a longer path was described\n",
        "    path = Path(to_filename)\n",
        "    if len(path.parts) > 1:\n",
        "        Path(to_filename).parent.mkdir(parents=True, exist_ok=True)\n",
        "\n",
        "    r = requests.get(public_url + \"/download\", stream=True)\n",
        "    # progress_bar = tqdm(desc=f\"Downloading {to_filename}\", unit='B', unit_scale=True, total=int(r.headers['Content-Length'])) if is_file else tqdm()\n",
        "    with open(to_filename, 'wb') as f:\n",
        "        for chunk in r.iter_content(chunk_size=8192):\n",
        "            f.write(chunk)\n",
        "            # progress_bar.update(len(chunk))"
      ]
    },
    {
      "cell_type": "code",
      "execution_count": null,
      "metadata": {
        "id": "Zh-EVoVmFOTE"
      },
      "outputs": [],
      "source": [
        "from_sciebo(\"https://uni-bonn.sciebo.de/s/2QWGzWeDZO9RaDo\", \"data/labels.txt\")\n",
        "from_sciebo(\"https://uni-bonn.sciebo.de/s/Lwqe6luZg1d4JJN\", \"data/activity.mat\")"
      ]
    },
    {
      "cell_type": "markdown",
      "metadata": {
        "id": "yb2PDdJfGhLc"
      },
      "source": [
        "---"
      ]
    },
    {
      "cell_type": "markdown",
      "metadata": {
        "id": "zp03m9mbGkO9"
      },
      "source": [
        "## Load the data"
      ]
    },
    {
      "cell_type": "code",
      "execution_count": null,
      "metadata": {
        "id": "1n_wvoJgGivb"
      },
      "outputs": [],
      "source": [
        "import pandas as pd\n",
        "from scipy.io import loadmat\n",
        "import matplotlib.pyplot as plt"
      ]
    },
    {
      "cell_type": "code",
      "execution_count": null,
      "metadata": {
        "colab": {
          "base_uri": "https://localhost:8080/"
        },
        "id": "XF2qFE9NGhrW",
        "outputId": "5e969df2-d86b-4d37-a680-93399d5eb5b0"
      },
      "outputs": [],
      "source": [
        "with open('data/labels.txt', 'r') as file:\n",
        "    contents = file.read()\n",
        "\n",
        "labels = contents.split(\",\")\n",
        "len(labels)"
      ]
    },
    {
      "cell_type": "code",
      "execution_count": null,
      "metadata": {
        "colab": {
          "base_uri": "https://localhost:8080/"
        },
        "id": "Qi46kyiXG-3Y",
        "outputId": "e9b13efb-1ef7-48f9-fdb4-117e8f848d4c"
      },
      "outputs": [],
      "source": [
        "activity = loadmat(\"data/activity.mat\")[\"TSgoodIC\"]\n",
        "activity.shape"
      ]
    },
    {
      "cell_type": "code",
      "execution_count": null,
      "metadata": {},
      "outputs": [],
      "source": [
        "plt.imshow(activity.T, aspect=\"auto\", cmap=\"inferno\")"
      ]
    },
    {
      "cell_type": "markdown",
      "metadata": {
        "id": "MPBh-T07H1ef"
      },
      "source": [
        "---"
      ]
    },
    {
      "cell_type": "markdown",
      "metadata": {
        "id": "mUV4GPXQH1bD"
      },
      "source": []
    }
  ],
  "metadata": {
    "colab": {
      "provenance": []
    },
    "kernelspec": {
      "display_name": "Python 3",
      "name": "python3"
    },
    "language_info": {
      "codemirror_mode": {
        "name": "ipython",
        "version": 3
      },
      "file_extension": ".py",
      "mimetype": "text/x-python",
      "name": "python",
      "nbconvert_exporter": "python",
      "pygments_lexer": "ipython3",
      "version": "3.10.13"
    }
  },
  "nbformat": 4,
  "nbformat_minor": 0
}
